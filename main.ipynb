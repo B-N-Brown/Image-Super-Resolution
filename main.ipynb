{
 "cells": [
  {
   "cell_type": "markdown",
   "metadata": {},
   "source": [
    "## Initial Set-Up"
   ]
  },
  {
   "cell_type": "markdown",
   "metadata": {},
   "source": [
    "We'll be using the [resize (cv2) function](https://www.opencv.org.cn/opencvdoc/2.3.2/html/modules/imgproc/doc/geometric_transformations.html#cv2.resize)"
   ]
  },
  {
   "cell_type": "code",
   "execution_count": 2,
   "metadata": {},
   "outputs": [
    {
     "name": "stdout",
     "output_type": "stream",
     "text": [
      "Requirement already satisfied: opencv-python in /Users/saifalesawy/.pyenv/versions/3.10.4/lib/python3.10/site-packages (4.6.0.66)\n",
      "Requirement already satisfied: numpy>=1.17.3 in /Users/saifalesawy/.pyenv/versions/3.10.4/lib/python3.10/site-packages (from opencv-python) (1.23.3)\n",
      "\u001b[33mWARNING: You are using pip version 22.0.4; however, version 22.2.2 is available.\n",
      "You should consider upgrading via the '/Users/saifalesawy/.pyenv/versions/3.10.4/bin/python3.10 -m pip install --upgrade pip' command.\u001b[0m\u001b[33m\n",
      "\u001b[0mRequirement already satisfied: tqdm in /Users/saifalesawy/.pyenv/versions/3.10.4/lib/python3.10/site-packages (4.64.1)\n",
      "\u001b[33mWARNING: You are using pip version 22.0.4; however, version 22.2.2 is available.\n",
      "You should consider upgrading via the '/Users/saifalesawy/.pyenv/versions/3.10.4/bin/python3.10 -m pip install --upgrade pip' command.\u001b[0m\u001b[33m\n",
      "\u001b[0m"
     ]
    }
   ],
   "source": [
    "!pip3.10 install opencv-python\n",
    "!pip3.10 install tqdm"
   ]
  },
  {
   "cell_type": "code",
   "execution_count": 3,
   "metadata": {},
   "outputs": [],
   "source": [
    "import cv2\n",
    "import os\n",
    "import numpy as np\n",
    "from tqdm import tqdm # progress bar"
   ]
  },
  {
   "cell_type": "code",
   "execution_count": 5,
   "metadata": {},
   "outputs": [
    {
     "name": "stderr",
     "output_type": "stream",
     "text": [
      "100%|██████████| 25003/25003 [01:48<00:00, 231.42it/s]\n"
     ]
    }
   ],
   "source": [
    "directory = \"../mirflickr\"\n",
    "count = 0\n",
    "# iterate through each file in the dir and push file data into imgs list\n",
    "for filename in tqdm(os.listdir(directory)):\n",
    "    filepath = os.path.join(directory, filename)\n",
    "    img = cv2.imread(filepath)\n",
    "\n",
    "    if '.jpg' not in filename:\n",
    "        continue\n",
    "    \n",
    "    try:\n",
    "        hr_output = './imgs-hr/' + filename\n",
    "        lr_output = './imgs-lr/' + filename\n",
    "        hr_img = cv2.resize(img, np.array([128, 128]))\n",
    "        lr_img = cv2.resize(img, np.array([32, 32]))\n",
    "\n",
    "        cv2.imwrite(hr_output, hr_img)\n",
    "        cv2.imwrite(lr_output, lr_img)\n",
    "    except Exception as e:\n",
    "        print('failed to resize ', hr_output, e)\n",
    "        print(filename)\n",
    "        print(img)"
   ]
  }
 ],
 "metadata": {
  "kernelspec": {
   "display_name": "Python 3.10.4 64-bit ('3.10.4')",
   "language": "python",
   "name": "python3"
  },
  "language_info": {
   "codemirror_mode": {
    "name": "ipython",
    "version": 3
   },
   "file_extension": ".py",
   "mimetype": "text/x-python",
   "name": "python",
   "nbconvert_exporter": "python",
   "pygments_lexer": "ipython3",
   "version": "3.10.4"
  },
  "orig_nbformat": 4,
  "vscode": {
   "interpreter": {
    "hash": "11ca3bbe3e09ec3de4e89b1761a1360f7c42cdc70471dcef3ca2c00d3db4a415"
   }
  }
 },
 "nbformat": 4,
 "nbformat_minor": 2
}
