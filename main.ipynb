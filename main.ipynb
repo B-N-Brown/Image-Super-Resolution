{
  "cells": [
    {
      "cell_type": "markdown",
      "metadata": {
        "id": "FqS4kDaXuRft"
      },
      "source": [
        "## Initial Set-Up"
      ]
    },
    {
      "cell_type": "markdown",
      "metadata": {},
      "source": [
        "<h1>Resizing Images</h1>"
      ]
    },
    {
      "cell_type": "markdown",
      "metadata": {
        "id": "2y1X4_K9uRfv"
      },
      "source": [
        "We'll be using the [resize (cv2) function](https://www.opencv.org.cn/opencvdoc/2.3.2/html/modules/imgproc/doc/geometric_transformations.html#cv2.resize)"
      ]
    },
    {
      "cell_type": "code",
      "execution_count": 1,
      "metadata": {
        "colab": {
          "base_uri": "https://localhost:8080/"
        },
        "id": "RQLtTqBTuRfw",
        "outputId": "9a1b715c-9d22-4334-9fc4-7493f041c240"
      },
      "outputs": [
        {
          "name": "stdout",
          "output_type": "stream",
          "text": [
            "Requirement already satisfied: opencv-python in /home/kshashank/.local/lib/python3.8/site-packages (4.6.0.66)\n",
            "Requirement already satisfied: numpy>=1.17.3; python_version >= \"3.8\" in /home/kshashank/.local/lib/python3.8/site-packages (from opencv-python) (1.23.4)\n",
            "Requirement already satisfied: tqdm in /home/kshashank/.local/lib/python3.8/site-packages (4.64.1)\n",
            "Requirement already satisfied: tensorflow in /home/kshashank/.local/lib/python3.8/site-packages (2.10.0)\n",
            "Requirement already satisfied: typing-extensions>=3.6.6 in /home/kshashank/.local/lib/python3.8/site-packages (from tensorflow) (4.4.0)\n",
            "Requirement already satisfied: grpcio<2.0,>=1.24.3 in /home/kshashank/.local/lib/python3.8/site-packages (from tensorflow) (1.48.1)\n",
            "Requirement already satisfied: libclang>=13.0.0 in /home/kshashank/.local/lib/python3.8/site-packages (from tensorflow) (14.0.6)\n",
            "Requirement already satisfied: keras-preprocessing>=1.1.1 in /home/kshashank/.local/lib/python3.8/site-packages (from tensorflow) (1.1.2)\n",
            "Requirement already satisfied: numpy>=1.20 in /home/kshashank/.local/lib/python3.8/site-packages (from tensorflow) (1.23.4)\n",
            "Requirement already satisfied: six>=1.12.0 in /usr/lib/python3/dist-packages (from tensorflow) (1.14.0)\n",
            "Requirement already satisfied: termcolor>=1.1.0 in /home/kshashank/.local/lib/python3.8/site-packages (from tensorflow) (2.0.1)\n",
            "Requirement already satisfied: flatbuffers>=2.0 in /home/kshashank/.local/lib/python3.8/site-packages (from tensorflow) (2.0.7)\n",
            "Requirement already satisfied: astunparse>=1.6.0 in /home/kshashank/.local/lib/python3.8/site-packages (from tensorflow) (1.6.3)\n",
            "Requirement already satisfied: opt-einsum>=2.3.2 in /home/kshashank/.local/lib/python3.8/site-packages (from tensorflow) (3.3.0)\n",
            "Requirement already satisfied: tensorboard<2.11,>=2.10 in /home/kshashank/.local/lib/python3.8/site-packages (from tensorflow) (2.10.0)\n",
            "Requirement already satisfied: gast<=0.4.0,>=0.2.1 in /home/kshashank/.local/lib/python3.8/site-packages (from tensorflow) (0.4.0)\n",
            "Requirement already satisfied: google-pasta>=0.1.1 in /home/kshashank/.local/lib/python3.8/site-packages (from tensorflow) (0.2.0)\n",
            "Requirement already satisfied: setuptools in /usr/lib/python3/dist-packages (from tensorflow) (45.2.0)\n",
            "Requirement already satisfied: h5py>=2.9.0 in /home/kshashank/.local/lib/python3.8/site-packages (from tensorflow) (3.7.0)\n",
            "Requirement already satisfied: tensorflow-io-gcs-filesystem>=0.23.1 in /home/kshashank/.local/lib/python3.8/site-packages (from tensorflow) (0.27.0)\n",
            "Requirement already satisfied: packaging in /home/kshashank/.local/lib/python3.8/site-packages (from tensorflow) (21.3)\n",
            "Requirement already satisfied: protobuf<3.20,>=3.9.2 in /home/kshashank/.local/lib/python3.8/site-packages (from tensorflow) (3.19.5)\n",
            "Requirement already satisfied: absl-py>=1.0.0 in /home/kshashank/.local/lib/python3.8/site-packages (from tensorflow) (1.2.0)\n",
            "Requirement already satisfied: tensorflow-estimator<2.11,>=2.10.0 in /home/kshashank/.local/lib/python3.8/site-packages (from tensorflow) (2.10.0)\n",
            "Requirement already satisfied: wrapt>=1.11.0 in /home/kshashank/.local/lib/python3.8/site-packages (from tensorflow) (1.14.1)\n",
            "Requirement already satisfied: keras<2.11,>=2.10.0 in /home/kshashank/.local/lib/python3.8/site-packages (from tensorflow) (2.10.0)\n",
            "Requirement already satisfied: wheel<1.0,>=0.23.0 in /home/kshashank/.local/lib/python3.8/site-packages (from astunparse>=1.6.0->tensorflow) (0.37.1)\n",
            "Requirement already satisfied: markdown>=2.6.8 in /home/kshashank/.local/lib/python3.8/site-packages (from tensorboard<2.11,>=2.10->tensorflow) (3.4.1)\n",
            "Requirement already satisfied: google-auth-oauthlib<0.5,>=0.4.1 in /home/kshashank/.local/lib/python3.8/site-packages (from tensorboard<2.11,>=2.10->tensorflow) (0.4.6)\n",
            "Requirement already satisfied: google-auth<3,>=1.6.3 in /home/kshashank/.local/lib/python3.8/site-packages (from tensorboard<2.11,>=2.10->tensorflow) (2.11.0)\n",
            "Requirement already satisfied: tensorboard-data-server<0.7.0,>=0.6.0 in /home/kshashank/.local/lib/python3.8/site-packages (from tensorboard<2.11,>=2.10->tensorflow) (0.6.1)\n",
            "Requirement already satisfied: werkzeug>=1.0.1 in /home/kshashank/.local/lib/python3.8/site-packages (from tensorboard<2.11,>=2.10->tensorflow) (2.2.2)\n",
            "Requirement already satisfied: tensorboard-plugin-wit>=1.6.0 in /home/kshashank/.local/lib/python3.8/site-packages (from tensorboard<2.11,>=2.10->tensorflow) (1.8.1)\n",
            "Requirement already satisfied: requests<3,>=2.21.0 in /home/kshashank/.local/lib/python3.8/site-packages (from tensorboard<2.11,>=2.10->tensorflow) (2.28.1)\n",
            "Requirement already satisfied: pyparsing!=3.0.5,>=2.0.2 in /home/kshashank/.local/lib/python3.8/site-packages (from packaging->tensorflow) (3.0.9)\n",
            "Requirement already satisfied: importlib-metadata>=4.4; python_version < \"3.10\" in /home/kshashank/.local/lib/python3.8/site-packages (from markdown>=2.6.8->tensorboard<2.11,>=2.10->tensorflow) (4.12.0)\n",
            "Requirement already satisfied: requests-oauthlib>=0.7.0 in /home/kshashank/.local/lib/python3.8/site-packages (from google-auth-oauthlib<0.5,>=0.4.1->tensorboard<2.11,>=2.10->tensorflow) (1.3.1)\n",
            "Requirement already satisfied: pyasn1-modules>=0.2.1 in /usr/lib/python3/dist-packages (from google-auth<3,>=1.6.3->tensorboard<2.11,>=2.10->tensorflow) (0.2.1)\n",
            "Requirement already satisfied: cachetools<6.0,>=2.0.0 in /home/kshashank/.local/lib/python3.8/site-packages (from google-auth<3,>=1.6.3->tensorboard<2.11,>=2.10->tensorflow) (5.2.0)\n",
            "Requirement already satisfied: rsa<5,>=3.1.4; python_version >= \"3.6\" in /home/kshashank/.local/lib/python3.8/site-packages (from google-auth<3,>=1.6.3->tensorboard<2.11,>=2.10->tensorflow) (4.9)\n",
            "Requirement already satisfied: MarkupSafe>=2.1.1 in /home/kshashank/.local/lib/python3.8/site-packages (from werkzeug>=1.0.1->tensorboard<2.11,>=2.10->tensorflow) (2.1.1)\n",
            "Requirement already satisfied: certifi>=2017.4.17 in /home/kshashank/.local/lib/python3.8/site-packages (from requests<3,>=2.21.0->tensorboard<2.11,>=2.10->tensorflow) (2022.9.14)\n",
            "Requirement already satisfied: idna<4,>=2.5 in /usr/lib/python3/dist-packages (from requests<3,>=2.21.0->tensorboard<2.11,>=2.10->tensorflow) (2.8)\n",
            "Requirement already satisfied: urllib3<1.27,>=1.21.1 in /home/kshashank/.local/lib/python3.8/site-packages (from requests<3,>=2.21.0->tensorboard<2.11,>=2.10->tensorflow) (1.26.12)\n",
            "Requirement already satisfied: charset-normalizer<3,>=2 in /home/kshashank/.local/lib/python3.8/site-packages (from requests<3,>=2.21.0->tensorboard<2.11,>=2.10->tensorflow) (2.1.1)\n",
            "Requirement already satisfied: zipp>=0.5 in /usr/lib/python3/dist-packages (from importlib-metadata>=4.4; python_version < \"3.10\"->markdown>=2.6.8->tensorboard<2.11,>=2.10->tensorflow) (1.0.0)\n",
            "Requirement already satisfied: oauthlib>=3.0.0 in /usr/lib/python3/dist-packages (from requests-oauthlib>=0.7.0->google-auth-oauthlib<0.5,>=0.4.1->tensorboard<2.11,>=2.10->tensorflow) (3.1.0)\n",
            "Requirement already satisfied: pyasn1>=0.1.3 in /usr/lib/python3/dist-packages (from rsa<5,>=3.1.4; python_version >= \"3.6\"->google-auth<3,>=1.6.3->tensorboard<2.11,>=2.10->tensorflow) (0.4.2)\n",
            "^C\n",
            "Traceback (most recent call last):\n",
            "  File \"/bin/pip\", line 11, in <module>\n",
            "    load_entry_point('pip==20.0.2', 'console_scripts', 'pip')()\n",
            "  File \"/usr/lib/python3/dist-packages/pkg_resources/__init__.py\", line 490, in load_entry_point\n",
            "    return get_distribution(dist).load_entry_point(group, name)\n",
            "  File \"/usr/lib/python3/dist-packages/pkg_resources/__init__.py\", line 2854, in load_entry_point\n",
            "    return ep.load()\n",
            "  File \"/usr/lib/python3/dist-packages/pkg_resources/__init__.py\", line 2445, in load\n",
            "    return self.resolve()\n",
            "  File \"/usr/lib/python3/dist-packages/pkg_resources/__init__.py\", line 2451, in resolve\n",
            "    module = __import__(self.module_name, fromlist=['__name__'], level=0)\n",
            "  File \"/usr/lib/python3/dist-packages/pip/_internal/cli/main.py\", line 10, in <module>\n",
            "    from pip._internal.cli.autocompletion import autocomplete\n",
            "  File \"/usr/lib/python3/dist-packages/pip/_internal/cli/autocompletion.py\", line 9, in <module>\n",
            "    from pip._internal.cli.main_parser import create_main_parser\n",
            "  File \"/usr/lib/python3/dist-packages/pip/_internal/cli/main_parser.py\", line 7, in <module>\n",
            "    from pip._internal.cli import cmdoptions\n",
            "  File \"/usr/lib/python3/dist-packages/pip/_internal/cli/cmdoptions.py\", line 24, in <module>\n",
            "    from pip._internal.exceptions import CommandError\n",
            "  File \"/usr/lib/python3/dist-packages/pip/_internal/exceptions.py\", line 10, in <module>\n",
            "    from pip._vendor.six import iteritems\n",
            "  File \"/usr/lib/python3/dist-packages/pip/_vendor/__init__.py\", line 65, in <module>\n",
            "    vendored(\"cachecontrol\")\n",
            "  File \"/usr/lib/python3/dist-packages/pip/_vendor/__init__.py\", line 36, in vendored\n",
            "    __import__(modulename, globals(), locals(), level=0)\n",
            "  File \"<frozen importlib._bootstrap>\", line 991, in _find_and_load\n",
            "  File \"<frozen importlib._bootstrap>\", line 975, in _find_and_load_unlocked\n",
            "  File \"<frozen importlib._bootstrap>\", line 655, in _load_unlocked\n",
            "  File \"<frozen importlib._bootstrap>\", line 618, in _load_backward_compatible\n",
            "  File \"<frozen zipimport>\", line 259, in load_module\n",
            "  File \"/usr/share/python-wheels/CacheControl-0.12.6-py2.py3-none-any.whl/cachecontrol/__init__.py\", line 9, in <module>\n",
            "  File \"<frozen importlib._bootstrap>\", line 991, in _find_and_load\n",
            "  File \"<frozen importlib._bootstrap>\", line 975, in _find_and_load_unlocked\n",
            "  File \"<frozen importlib._bootstrap>\", line 655, in _load_unlocked\n",
            "  File \"<frozen importlib._bootstrap>\", line 618, in _load_backward_compatible\n",
            "  File \"<frozen zipimport>\", line 259, in load_module\n",
            "  File \"/usr/share/python-wheels/CacheControl-0.12.6-py2.py3-none-any.whl/cachecontrol/wrapper.py\", line 1, in <module>\n",
            "  File \"<frozen importlib._bootstrap>\", line 991, in _find_and_load\n",
            "  File \"<frozen importlib._bootstrap>\", line 975, in _find_and_load_unlocked\n",
            "  File \"<frozen importlib._bootstrap>\", line 655, in _load_unlocked\n",
            "  File \"<frozen importlib._bootstrap>\", line 618, in _load_backward_compatible\n",
            "  File \"<frozen zipimport>\", line 259, in load_module\n",
            "  File \"/usr/share/python-wheels/CacheControl-0.12.6-py2.py3-none-any.whl/cachecontrol/adapter.py\", line 5, in <module>\n",
            "  File \"<frozen importlib._bootstrap>\", line 991, in _find_and_load\n",
            "  File \"<frozen importlib._bootstrap>\", line 975, in _find_and_load_unlocked\n",
            "  File \"<frozen importlib._bootstrap>\", line 655, in _load_unlocked\n",
            "  File \"<frozen importlib._bootstrap>\", line 618, in _load_backward_compatible\n",
            "  File \"<frozen zipimport>\", line 259, in load_module\n",
            "  File \"/usr/share/python-wheels/requests-2.22.0-py2.py3-none-any.whl/requests/__init__.py\", line 44, in <module>\n",
            "  File \"<frozen importlib._bootstrap>\", line 991, in _find_and_load\n",
            "  File \"<frozen importlib._bootstrap>\", line 975, in _find_and_load_unlocked\n",
            "  File \"<frozen importlib._bootstrap>\", line 655, in _load_unlocked\n",
            "  File \"<frozen importlib._bootstrap>\", line 618, in _load_backward_compatible\n",
            "  File \"<frozen zipimport>\", line 259, in load_module\n",
            "  File \"/usr/share/python-wheels/chardet-3.0.4-py2.py3-none-any.whl/chardet/__init__.py\", line 20, in <module>\n",
            "  File \"<frozen importlib._bootstrap>\", line 991, in _find_and_load\n",
            "  File \"<frozen importlib._bootstrap>\", line 975, in _find_and_load_unlocked\n",
            "  File \"<frozen importlib._bootstrap>\", line 655, in _load_unlocked\n",
            "  File \"<frozen importlib._bootstrap>\", line 618, in _load_backward_compatible\n",
            "  File \"<frozen zipimport>\", line 259, in load_module\n",
            "  File \"/usr/share/python-wheels/chardet-3.0.4-py2.py3-none-any.whl/chardet/universaldetector.py\", line 47, in <module>\n",
            "  File \"<frozen importlib._bootstrap>\", line 991, in _find_and_load\n",
            "  File \"<frozen importlib._bootstrap>\", line 975, in _find_and_load_unlocked\n",
            "  File \"<frozen importlib._bootstrap>\", line 655, in _load_unlocked\n",
            "  File \"<frozen importlib._bootstrap>\", line 618, in _load_backward_compatible\n",
            "  File \"<frozen zipimport>\", line 259, in load_module\n",
            "  File \"/usr/share/python-wheels/chardet-3.0.4-py2.py3-none-any.whl/chardet/mbcsgroupprober.py\", line 32, in <module>\n",
            "  File \"<frozen importlib._bootstrap>\", line 991, in _find_and_load\n",
            "  File \"<frozen importlib._bootstrap>\", line 975, in _find_and_load_unlocked\n",
            "  File \"<frozen importlib._bootstrap>\", line 655, in _load_unlocked\n",
            "  File \"<frozen importlib._bootstrap>\", line 618, in _load_backward_compatible\n",
            "  File \"<frozen zipimport>\", line 259, in load_module\n",
            "  File \"/usr/share/python-wheels/chardet-3.0.4-py2.py3-none-any.whl/chardet/sjisprober.py\", line 30, in <module>\n",
            "  File \"<frozen importlib._bootstrap>\", line 991, in _find_and_load\n",
            "  File \"<frozen importlib._bootstrap>\", line 975, in _find_and_load_unlocked\n",
            "  File \"<frozen importlib._bootstrap>\", line 655, in _load_unlocked\n",
            "  File \"<frozen importlib._bootstrap>\", line 618, in _load_backward_compatible\n",
            "  File \"<frozen zipimport>\", line 259, in load_module\n",
            "  File \"/usr/share/python-wheels/chardet-3.0.4-py2.py3-none-any.whl/chardet/chardistribution.py\", line 32, in <module>\n",
            "  File \"<frozen importlib._bootstrap>\", line 991, in _find_and_load\n",
            "  File \"<frozen importlib._bootstrap>\", line 971, in _find_and_load_unlocked\n",
            "  File \"<frozen importlib._bootstrap>\", line 914, in _find_spec\n",
            "  File \"<frozen importlib._bootstrap_external>\", line 1407, in find_spec\n",
            "  File \"<frozen importlib._bootstrap_external>\", line 1381, in _get_spec\n",
            "  File \"<frozen importlib._bootstrap_external>\", line 1362, in _legacy_get_spec\n",
            "  File \"<frozen importlib._bootstrap>\", line 414, in spec_from_loader\n",
            "  File \"<frozen importlib._bootstrap_external>\", line 709, in spec_from_file_location\n",
            "  File \"<frozen zipimport>\", line 191, in get_filename\n",
            "  File \"<frozen zipimport>\", line 713, in _get_module_code\n",
            "  File \"<frozen zipimport>\", line 647, in _compile_source\n",
            "KeyboardInterrupt\n"
          ]
        }
      ],
      "source": [
        "!pip install opencv-python\n",
        "!pip install tqdm\n",
        "!pip install tensorflow\n",
        "!pip install torch"
      ]
    },
    {
      "cell_type": "code",
      "execution_count": 2,
      "metadata": {
        "id": "6FGFFqSouRfx"
      },
      "outputs": [],
      "source": [
        "import cv2\n",
        "import os\n",
        "import numpy as np\n",
        "from tqdm import tqdm # progress bar"
      ]
    },
    {
      "cell_type": "code",
      "execution_count": null,
      "metadata": {
        "colab": {
          "base_uri": "https://localhost:8080/"
        },
        "id": "86rwrKJZuRfx",
        "outputId": "a2e0cb9c-25f9-48df-c010-75b77e57a91a"
      },
      "outputs": [
        {
          "name": "stderr",
          "output_type": "stream",
          "text": [
            "0it [00:00, ?it/s]\n"
          ]
        }
      ],
      "source": [
        "from genericpath import isdir\n",
        "directory = \"../mirflickr\"\n",
        "count = 0\n",
        "# iterate through each file in the dir and push file data into imgs list\n",
        "if not os.path.isdir(directory):\n",
        "   os.makedirs(directory)\n",
        "\n",
        "for filename in tqdm(os.listdir(directory)):\n",
        "    filepath = os.path.join(directory, filename)\n",
        "    img = cv2.imread(filepath)\n",
        "    \n",
        "    if '.jpg' not in filename:\n",
        "        continue\n",
        "    \n",
        "    try:\n",
        "        hr_output = './imgs-hr/' + filename\n",
        "        lr_output = './imgs-lr/' + filename\n",
        "        hr_img = cv2.resize(img, np.array([128, 128]))\n",
        "        lr_img = cv2.resize(img, np.array([32, 32]))\n",
        "\n",
        "        cv2.imwrite(hr_output, hr_img)\n",
        "        cv2.imwrite(lr_output, lr_img)\n",
        "    except Exception as e:\n",
        "        print('failed to resize ', hr_output, e)\n",
        "        print(filename)\n",
        "        print(img)"
      ]
    },
    {
      "cell_type": "markdown",
      "metadata": {},
      "source": [
        "<h1>Building Model</h1>"
      ]
    },
    {
      "cell_type": "code",
      "execution_count": 50,
      "metadata": {
        "colab": {
          "base_uri": "https://localhost:8080/",
          "height": 365
        },
        "id": "Bjsesg_Lv1rx",
        "outputId": "bf72b5a9-e954-427e-e73e-fced8f6ef74a"
      },
      "outputs": [],
      "source": [
        "# imports\n",
        "import tensorflow as tf\n",
        "from keras import Input, Model\n",
        "from keras.applications import VGG19\n",
        "from keras.layers import BatchNormalization, Activation, LeakyReLU, Add, Dense, PReLU, Flatten\n",
        "from keras.layers.convolutional import Conv2D, UpSampling2D\n",
        "from tensorflow.keras.models import load_model"
      ]
    },
    {
      "cell_type": "code",
      "execution_count": 4,
      "metadata": {
        "id": "48qep5BiyFNR"
      },
      "outputs": [],
      "source": [
        "#residual blocks\n",
        "def get_residual_block(a):\n",
        "    x = Conv2D(64, kernel_size = (3, 3), strides=(1, 1), padding='same', input_shape=[32, 32, 64], activation='relu')(a)\n",
        "    x = BatchNormalization()(x)\n",
        "    x = PReLU()(x)\n",
        "    x = Conv2D(64, kernel_size = (3, 3), strides=(1, 1), padding='same', input_shape=[32, 32, 64], activation='relu')(x)\n",
        "    x = BatchNormalization()(x)\n",
        "    a = Add()([x, a])\n",
        "\n",
        "    return a\n",
        "    \n",
        "    \n",
        "# create generator network\n",
        "def create_generator_network():\n",
        "    inputs = Input(shape=(32, 32, 3))\n",
        "\n",
        "    # original 2 layers\n",
        "    #changed kernel to 3x3 from 9x9\n",
        "    a = Conv2D(64, kernel_size = (9, 9), strides=(1, 1), padding='same', input_shape=[32, 32, 3], activation='relu')(inputs)\n",
        "    a = PReLU()(a)\n",
        "\n",
        "    # keep track of a to sum it into the result of the residiual block methods\n",
        "    orig = a\n",
        "\n",
        "    for i in range(0, 5):\n",
        "        a = get_residual_block(a)\n",
        "\n",
        "    x = Conv2D(64, kernel_size = (3, 3), strides=(1, 1), padding='same', input_shape=[32, 32, 64], activation='relu')(a)\n",
        "    x = BatchNormalization()(x)\n",
        "\n",
        "    a = Add()([x, orig])\n",
        "\n",
        "    for i in range(0, 2):\n",
        "        # pixel shuffle\n",
        "        a = Conv2D(256, kernel_size = (3, 3), strides=(1, 1), padding='same', input_shape=[32, 32, 64], activation='relu')(a)\n",
        "        a = UpSampling2D()(a)\n",
        "        a = UpSampling2D()(a)\n",
        "        a = PReLU()(a)\n",
        "\n",
        "    a = Conv2D(3, kernel_size = (9, 9), strides=(1, 1), padding='same', input_shape=[32, 32, 64], activation='relu')(a)\n",
        "\n",
        "    return Model(inputs=inputs, outputs=a)\n",
        "\n"
      ]
    },
    {
      "cell_type": "code",
      "execution_count": 54,
      "metadata": {
        "id": "8iBjdzekEdBd"
      },
      "outputs": [],
      "source": [
        "# create discriminator network\n",
        "def create_discriminator_network(disc_ip):\n",
        "    x = Conv2D(64, kernel_size = (3, 3), strides=(1, 1), padding='same', input_shape=[32, 32, 3], activation='relu')(inputs)\n",
        "    x = LeakyReLU(alpha= 0.2)(x)\n",
        "\n",
        "    \n",
        "    x = Conv2D(64, kernel_size = (3, 3), strides=(2, 2), padding='same', input_shape=[32, 32, 64], activation='relu')(x)\n",
        "    x = BatchNormalization()(x)\n",
        "    x = LeakyReLU(alpha = 0.2)(x)\n",
        "\n",
        "    x = Conv2D(128, kernel_size = (3, 3), strides=(1, 1), padding='same', input_shape=[32, 32, 64], activation='relu')(x)\n",
        "    x = BatchNormalization()(x)\n",
        "    x = LeakyReLU(alpha = 0.2)(x)\n",
        "\n",
        "    x = Conv2D(128, kernel_size = (3, 3), strides=(2, 2), padding='same', input_shape=[32, 32, 128], activation='relu')(x)\n",
        "    x = BatchNormalization()(x)\n",
        "    x = LeakyReLU(alpha = 0.2)(x)\n",
        "\n",
        "    x = Conv2D(256, kernel_size = (3, 3), strides=(1, 1), padding='same', input_shape=[32, 32, 128], activation='relu')(x)\n",
        "    x = BatchNormalization()(x)\n",
        "    x = LeakyReLU(alpha = 0.2)(x)\n",
        "\n",
        "    x = Conv2D(256, kernel_size = (3, 3), strides=(2, 2), padding='same', input_shape=[32, 32, 256], activation='relu')(x)\n",
        "    x = BatchNormalization()(x)\n",
        "    x = LeakyReLU(alpha = 0.2)(x)\n",
        "\n",
        "    x = Conv2D(512, kernel_size = (3, 3), strides=(1, 1), padding='same', input_shape=[32, 32, 256], activation='relu')(x)\n",
        "    x = BatchNormalization()(x)\n",
        "    x = LeakyReLU(alpha = 0.2)(x)\n",
        "\n",
        "    x = Conv2D(512, kernel_size = (3, 3), strides=(2, 2), padding='same', input_shape=[32, 32, 512], activation='relu')(x)\n",
        "    x = BatchNormalization()(x)\n",
        "    x = LeakyReLU(alpha = 0.2)(x)\n",
        "\n",
        "    x = Flatten()(x)\n",
        "    x = Dense(1024)(x)\n",
        "    x = LeakyReLU(alpha = 0.2)(x)\n",
        "    x = Dense(1, activation='sigmoid')(x)\n",
        "\n",
        "    return Model(disc_ip, x)"
      ]
    },
    {
      "cell_type": "code",
      "execution_count": 6,
      "metadata": {},
      "outputs": [],
      "source": [
        "from keras.models import Model"
      ]
    },
    {
      "cell_type": "code",
      "execution_count": 7,
      "metadata": {},
      "outputs": [],
      "source": [
        "#content loss \n",
        "\n",
        "def vgg_loss_function(hr_img):\n",
        "    vgg = VGG19(include_top=False, weights='imagenet', input_shape=hr_img)\n",
        "    model = Model(inputs = vgg.inputs, outputs = vgg.layers[10].output) #calling 512 \n",
        "    return model"
      ]
    },
    {
      "cell_type": "code",
      "execution_count": 55,
      "metadata": {},
      "outputs": [],
      "source": [
        "#combined model\n",
        "\n",
        "def combined_model(generator_network, discriminator_network, \n",
        "                   vgg, hr_img, lr_img):\n",
        "\n",
        "    generative_img = generator_network(lr_img)\n",
        "\n",
        "    generative_features = vgg(generative_img)\n",
        "\n",
        "\n",
        "    discriminator_network.trainable = False\n",
        "    validity = create_discriminator_network(generative_features)\n",
        "\n",
        "    model = Model(inputs=[lr_img, hr_img], outputs=[validity, generative_features])\n",
        "    return model"
      ]
    },
    {
      "cell_type": "code",
      "execution_count": null,
      "metadata": {},
      "outputs": [
        {
          "data": {
            "image/png": "[encoded data removed]",
            "text/plain": [
              "<Figure size 1200x600 with 2 Axes>"
            ]
          },
          "metadata": {},
          "output_type": "display_data"
        }
      ],
      "source": [
        "#Sanity check, view few images\n",
        "import random\n",
        "import numpy as np\n",
        "import matplotlib.pyplot as plt\n",
        "lr_images = []\n",
        "hr_images = []\n",
        "directory = './imgs-lr'\n",
        "i = 0\n",
        "for filename in os.listdir(directory):\n",
        "    if i < 5:\n",
        "        filepath = os.path.join(directory, filename)\n",
        "        img = cv2.imread(filepath)\n",
        "        lr_images.append(img)\n",
        "        i += 1\n",
        "    else:\n",
        "        break\n",
        "directory = './imgs-hr'\n",
        "i = 0\n",
        "for filename in os.listdir(directory):\n",
        "    if i < 5:\n",
        "        filepath = os.path.join(directory, filename)\n",
        "        img = cv2.imread(filepath)\n",
        "        hr_images.append(img)\n",
        "        i += 1\n",
        "    else:\n",
        "        break\n",
        "lr_images = np.array(lr_images)\n",
        "hr_images = np.array(hr_images)\n",
        "image_number = random.randint(0, len(lr_images)-1)\n",
        "plt.figure(figsize=(12, 6))\n",
        "plt.subplot(121)\n",
        "plt.imshow(np.reshape(lr_images[image_number], (32, 32, 3)))\n",
        "plt.subplot(122)\n",
        "plt.imshow(np.reshape(hr_images[image_number], (128, 128, 3)))\n",
        "plt.show()"
      ]
    },
    {
      "cell_type": "code",
      "execution_count": 9,
      "metadata": {},
      "outputs": [
        {
          "name": "stderr",
          "output_type": "stream",
          "text": [
            "100%|██████████| 50000/50000 [00:19<00:00, 2564.25it/s]\n",
            " 10%|█         | 5001/50000 [00:31<04:43, 158.48it/s]\n"
          ]
        }
      ],
      "source": [
        "lr_images = []\n",
        "hr_images = []\n",
        "directory = './imgs-lr'\n",
        "count = 0\n",
        "for filename in tqdm(os.listdir(directory)):\n",
        "    if count > 5000:\n",
        "        continue\n",
        "    filepath = os.path.join(directory, filename)\n",
        "    img = cv2.imread(filepath)\n",
        "    lr_images.append(img)\n",
        "    count += 1\n",
        "directory = './imgs-hr'\n",
        "count = 0\n",
        "for filename in tqdm(os.listdir(directory)):\n",
        "    if count > 5000:\n",
        "        break\n",
        "    filepath = os.path.join(directory, filename)\n",
        "    img = cv2.imread(filepath)\n",
        "    hr_images.append(img)\n",
        "    count += 1\n",
        "lr_images = np.array(lr_images)\n",
        "hr_images = np.array(hr_images)"
      ]
    },
    {
      "cell_type": "code",
      "execution_count": 10,
      "metadata": {},
      "outputs": [
        {
          "name": "stderr",
          "output_type": "stream",
          "text": [
            "/home/kshashank/.local/lib/python3.8/site-packages/keras/optimizers/optimizer_v2/adam.py:114: UserWarning: The `lr` argument is deprecated, use `learning_rate` instead.\n",
            "  super().__init__(name, **kwargs)\n"
          ]
        }
      ],
      "source": [
        "#inializing parameters\n",
        "from keras.optimizers import Adam\n",
        "epochs = 100\n",
        "batch_size = 50\n",
        "steps_per_epoch = 5000 / batch_size\n",
        "optimizer = Adam(lr=1e-3)"
      ]
    },
    {
      "cell_type": "code",
      "execution_count": 11,
      "metadata": {},
      "outputs": [],
      "source": [
        "lr_images = lr_images / 255\n",
        "hr_images = hr_images / 255"
      ]
    },
    {
      "cell_type": "code",
      "execution_count": 12,
      "metadata": {},
      "outputs": [],
      "source": [
        "from sklearn.model_selection import train_test_split"
      ]
    },
    {
      "cell_type": "code",
      "execution_count": 13,
      "metadata": {},
      "outputs": [],
      "source": [
        "lr_train, lr_test, hr_train, hr_test = train_test_split(lr_images, hr_images,\n",
        "                                                        test_size=0.20, random_state=42)\n"
      ]
    },
    {
      "cell_type": "code",
      "execution_count": 14,
      "metadata": {},
      "outputs": [],
      "source": [
        "hr_shape = (hr_train.shape[1], hr_train.shape[2], hr_train.shape[3])\n",
        "lr_shape = (lr_train.shape[1], lr_train.shape[2], lr_train.shape[3])\n"
      ]
    },
    {
      "cell_type": "code",
      "execution_count": 15,
      "metadata": {},
      "outputs": [],
      "source": [
        "lr_ip = Input(shape=lr_shape)\n",
        "hr_ip = Input(shape=hr_shape)\n"
      ]
    },
    {
      "cell_type": "code",
      "execution_count": 16,
      "metadata": {},
      "outputs": [
        {
          "name": "stderr",
          "output_type": "stream",
          "text": [
            "2022-12-04 12:50:41.131317: I tensorflow/stream_executor/cuda/cuda_gpu_executor.cc:966] could not open file to read NUMA node: /sys/bus/pci/devices/0000:01:00.0/numa_node\n",
            "Your kernel may have been built without NUMA support.\n",
            "2022-12-04 12:50:41.131486: W tensorflow/stream_executor/platform/default/dso_loader.cc:64] Could not load dynamic library 'libcudart.so.11.0'; dlerror: libcudart.so.11.0: cannot open shared object file: No such file or directory; LD_LIBRARY_PATH: /home/kshashank/.local/lib/python3.8/site-packages/cv2/../../lib64:\n",
            "2022-12-04 12:50:41.131550: W tensorflow/stream_executor/platform/default/dso_loader.cc:64] Could not load dynamic library 'libcublas.so.11'; dlerror: libcublas.so.11: cannot open shared object file: No such file or directory; LD_LIBRARY_PATH: /home/kshashank/.local/lib/python3.8/site-packages/cv2/../../lib64:\n",
            "2022-12-04 12:50:41.131610: W tensorflow/stream_executor/platform/default/dso_loader.cc:64] Could not load dynamic library 'libcublasLt.so.11'; dlerror: libcublasLt.so.11: cannot open shared object file: No such file or directory; LD_LIBRARY_PATH: /home/kshashank/.local/lib/python3.8/site-packages/cv2/../../lib64:\n",
            "2022-12-04 12:50:41.131664: W tensorflow/stream_executor/platform/default/dso_loader.cc:64] Could not load dynamic library 'libcufft.so.10'; dlerror: libcufft.so.10: cannot open shared object file: No such file or directory; LD_LIBRARY_PATH: /home/kshashank/.local/lib/python3.8/site-packages/cv2/../../lib64:\n",
            "2022-12-04 12:50:41.131733: W tensorflow/stream_executor/platform/default/dso_loader.cc:64] Could not load dynamic library 'libcurand.so.10'; dlerror: libcurand.so.10: cannot open shared object file: No such file or directory; LD_LIBRARY_PATH: /home/kshashank/.local/lib/python3.8/site-packages/cv2/../../lib64:\n",
            "2022-12-04 12:50:41.131790: W tensorflow/stream_executor/platform/default/dso_loader.cc:64] Could not load dynamic library 'libcusolver.so.11'; dlerror: libcusolver.so.11: cannot open shared object file: No such file or directory; LD_LIBRARY_PATH: /home/kshashank/.local/lib/python3.8/site-packages/cv2/../../lib64:\n",
            "2022-12-04 12:50:41.131849: W tensorflow/stream_executor/platform/default/dso_loader.cc:64] Could not load dynamic library 'libcusparse.so.11'; dlerror: libcusparse.so.11: cannot open shared object file: No such file or directory; LD_LIBRARY_PATH: /home/kshashank/.local/lib/python3.8/site-packages/cv2/../../lib64:\n",
            "2022-12-04 12:50:41.131922: W tensorflow/stream_executor/platform/default/dso_loader.cc:64] Could not load dynamic library 'libcudnn.so.8'; dlerror: libcudnn.so.8: cannot open shared object file: No such file or directory; LD_LIBRARY_PATH: /home/kshashank/.local/lib/python3.8/site-packages/cv2/../../lib64:\n",
            "2022-12-04 12:50:41.131934: W tensorflow/core/common_runtime/gpu/gpu_device.cc:1934] Cannot dlopen some GPU libraries. Please make sure the missing libraries mentioned above are installed properly if you would like to use GPU. Follow the guide at https://www.tensorflow.org/install/gpu for how to download and setup the required libraries for your platform.\n",
            "Skipping registering GPU devices...\n",
            "2022-12-04 12:50:41.132606: I tensorflow/core/platform/cpu_feature_guard.cc:193] This TensorFlow binary is optimized with oneAPI Deep Neural Network Library (oneDNN) to use the following CPU instructions in performance-critical operations:  AVX2 FMA\n",
            "To enable them in other operations, rebuild TensorFlow with the appropriate compiler flags.\n"
          ]
        },
        {
          "name": "stdout",
          "output_type": "stream",
          "text": [
            "Model: \"model\"\n",
            "__________________________________________________________________________________________________\n",
            " Layer (type)                   Output Shape         Param #     Connected to                     \n",
            "==================================================================================================\n",
            " input_3 (InputLayer)           [(None, 32, 32, 3)]  0           []                               \n",
            "                                                                                                  \n",
            " conv2d (Conv2D)                (None, 32, 32, 64)   15616       ['input_3[0][0]']                \n",
            "                                                                                                  \n",
            " p_re_lu (PReLU)                (None, 32, 32, 64)   65536       ['conv2d[0][0]']                 \n",
            "                                                                                                  \n",
            " conv2d_1 (Conv2D)              (None, 32, 32, 64)   36928       ['p_re_lu[0][0]']                \n",
            "                                                                                                  \n",
            " batch_normalization (BatchNorm  (None, 32, 32, 64)  256         ['conv2d_1[0][0]']               \n",
            " alization)                                                                                       \n",
            "                                                                                                  \n",
            " p_re_lu_1 (PReLU)              (None, 32, 32, 64)   65536       ['batch_normalization[0][0]']    \n",
            "                                                                                                  \n",
            " conv2d_2 (Conv2D)              (None, 32, 32, 64)   36928       ['p_re_lu_1[0][0]']              \n",
            "                                                                                                  \n",
            " batch_normalization_1 (BatchNo  (None, 32, 32, 64)  256         ['conv2d_2[0][0]']               \n",
            " rmalization)                                                                                     \n",
            "                                                                                                  \n",
            " add (Add)                      (None, 32, 32, 64)   0           ['batch_normalization_1[0][0]',  \n",
            "                                                                  'p_re_lu[0][0]']                \n",
            "                                                                                                  \n",
            " conv2d_3 (Conv2D)              (None, 32, 32, 64)   36928       ['add[0][0]']                    \n",
            "                                                                                                  \n",
            " batch_normalization_2 (BatchNo  (None, 32, 32, 64)  256         ['conv2d_3[0][0]']               \n",
            " rmalization)                                                                                     \n",
            "                                                                                                  \n",
            " p_re_lu_2 (PReLU)              (None, 32, 32, 64)   65536       ['batch_normalization_2[0][0]']  \n",
            "                                                                                                  \n",
            " conv2d_4 (Conv2D)              (None, 32, 32, 64)   36928       ['p_re_lu_2[0][0]']              \n",
            "                                                                                                  \n",
            " batch_normalization_3 (BatchNo  (None, 32, 32, 64)  256         ['conv2d_4[0][0]']               \n",
            " rmalization)                                                                                     \n",
            "                                                                                                  \n",
            " add_1 (Add)                    (None, 32, 32, 64)   0           ['batch_normalization_3[0][0]',  \n",
            "                                                                  'add[0][0]']                    \n",
            "                                                                                                  \n",
            " conv2d_5 (Conv2D)              (None, 32, 32, 64)   36928       ['add_1[0][0]']                  \n",
            "                                                                                                  \n",
            " batch_normalization_4 (BatchNo  (None, 32, 32, 64)  256         ['conv2d_5[0][0]']               \n",
            " rmalization)                                                                                     \n",
            "                                                                                                  \n",
            " p_re_lu_3 (PReLU)              (None, 32, 32, 64)   65536       ['batch_normalization_4[0][0]']  \n",
            "                                                                                                  \n",
            " conv2d_6 (Conv2D)              (None, 32, 32, 64)   36928       ['p_re_lu_3[0][0]']              \n",
            "                                                                                                  \n",
            " batch_normalization_5 (BatchNo  (None, 32, 32, 64)  256         ['conv2d_6[0][0]']               \n",
            " rmalization)                                                                                     \n",
            "                                                                                                  \n",
            " add_2 (Add)                    (None, 32, 32, 64)   0           ['batch_normalization_5[0][0]',  \n",
            "                                                                  'add_1[0][0]']                  \n",
            "                                                                                                  \n",
            " conv2d_7 (Conv2D)              (None, 32, 32, 64)   36928       ['add_2[0][0]']                  \n",
            "                                                                                                  \n",
            " batch_normalization_6 (BatchNo  (None, 32, 32, 64)  256         ['conv2d_7[0][0]']               \n",
            " rmalization)                                                                                     \n",
            "                                                                                                  \n",
            " p_re_lu_4 (PReLU)              (None, 32, 32, 64)   65536       ['batch_normalization_6[0][0]']  \n",
            "                                                                                                  \n",
            " conv2d_8 (Conv2D)              (None, 32, 32, 64)   36928       ['p_re_lu_4[0][0]']              \n",
            "                                                                                                  \n",
            " batch_normalization_7 (BatchNo  (None, 32, 32, 64)  256         ['conv2d_8[0][0]']               \n",
            " rmalization)                                                                                     \n",
            "                                                                                                  \n",
            " add_3 (Add)                    (None, 32, 32, 64)   0           ['batch_normalization_7[0][0]',  \n",
            "                                                                  'add_2[0][0]']                  \n",
            "                                                                                                  \n",
            " conv2d_9 (Conv2D)              (None, 32, 32, 64)   36928       ['add_3[0][0]']                  \n",
            "                                                                                                  \n",
            " batch_normalization_8 (BatchNo  (None, 32, 32, 64)  256         ['conv2d_9[0][0]']               \n",
            " rmalization)                                                                                     \n",
            "                                                                                                  \n",
            " p_re_lu_5 (PReLU)              (None, 32, 32, 64)   65536       ['batch_normalization_8[0][0]']  \n",
            "                                                                                                  \n",
            " conv2d_10 (Conv2D)             (None, 32, 32, 64)   36928       ['p_re_lu_5[0][0]']              \n",
            "                                                                                                  \n",
            " batch_normalization_9 (BatchNo  (None, 32, 32, 64)  256         ['conv2d_10[0][0]']              \n",
            " rmalization)                                                                                     \n",
            "                                                                                                  \n",
            " add_4 (Add)                    (None, 32, 32, 64)   0           ['batch_normalization_9[0][0]',  \n",
            "                                                                  'add_3[0][0]']                  \n",
            "                                                                                                  \n",
            " conv2d_11 (Conv2D)             (None, 32, 32, 64)   36928       ['add_4[0][0]']                  \n",
            "                                                                                                  \n",
            " batch_normalization_10 (BatchN  (None, 32, 32, 64)  256         ['conv2d_11[0][0]']              \n",
            " ormalization)                                                                                    \n",
            "                                                                                                  \n",
            " add_5 (Add)                    (None, 32, 32, 64)   0           ['batch_normalization_10[0][0]', \n",
            "                                                                  'p_re_lu[0][0]']                \n",
            "                                                                                                  \n",
            " conv2d_12 (Conv2D)             (None, 32, 32, 256)  147712      ['add_5[0][0]']                  \n",
            "                                                                                                  \n",
            " up_sampling2d (UpSampling2D)   (None, 64, 64, 256)  0           ['conv2d_12[0][0]']              \n",
            "                                                                                                  \n",
            " up_sampling2d_1 (UpSampling2D)  (None, 128, 128, 25  0          ['up_sampling2d[0][0]']          \n",
            "                                6)                                                                \n",
            "                                                                                                  \n",
            " p_re_lu_6 (PReLU)              (None, 128, 128, 25  4194304     ['up_sampling2d_1[0][0]']        \n",
            "                                6)                                                                \n",
            "                                                                                                  \n",
            " conv2d_13 (Conv2D)             (None, 128, 128, 25  590080      ['p_re_lu_6[0][0]']              \n",
            "                                6)                                                                \n",
            "                                                                                                  \n",
            " up_sampling2d_2 (UpSampling2D)  (None, 256, 256, 25  0          ['conv2d_13[0][0]']              \n",
            "                                6)                                                                \n",
            "                                                                                                  \n",
            " up_sampling2d_3 (UpSampling2D)  (None, 512, 512, 25  0          ['up_sampling2d_2[0][0]']        \n",
            "                                6)                                                                \n",
            "                                                                                                  \n",
            " p_re_lu_7 (PReLU)              (None, 512, 512, 25  67108864    ['up_sampling2d_3[0][0]']        \n",
            "                                6)                                                                \n",
            "                                                                                                  \n",
            " conv2d_14 (Conv2D)             (None, 512, 512, 3)  62211       ['p_re_lu_7[0][0]']              \n",
            "                                                                                                  \n",
            "==================================================================================================\n",
            "Total params: 72,921,027\n",
            "Trainable params: 72,919,619\n",
            "Non-trainable params: 1,408\n",
            "__________________________________________________________________________________________________\n"
          ]
        }
      ],
      "source": [
        "generator = create_generator_network()\n",
        "generator.summary()\n"
      ]
    },
    {
      "cell_type": "code",
      "execution_count": 17,
      "metadata": {},
      "outputs": [
        {
          "name": "stdout",
          "output_type": "stream",
          "text": [
            "Model: \"model_1\"\n",
            "_________________________________________________________________\n",
            " Layer (type)                Output Shape              Param #   \n",
            "=================================================================\n",
            " input_4 (InputLayer)        [(None, 32, 32, 3)]       0         \n",
            "                                                                 \n",
            " conv2d_15 (Conv2D)          (None, 32, 32, 64)        1792      \n",
            "                                                                 \n",
            " leaky_re_lu (LeakyReLU)     (None, 32, 32, 64)        0         \n",
            "                                                                 \n",
            " conv2d_16 (Conv2D)          (None, 16, 16, 64)        36928     \n",
            "                                                                 \n",
            " batch_normalization_11 (Bat  (None, 16, 16, 64)       256       \n",
            " chNormalization)                                                \n",
            "                                                                 \n",
            " leaky_re_lu_1 (LeakyReLU)   (None, 16, 16, 64)        0         \n",
            "                                                                 \n",
            " conv2d_17 (Conv2D)          (None, 16, 16, 128)       73856     \n",
            "                                                                 \n",
            " batch_normalization_12 (Bat  (None, 16, 16, 128)      512       \n",
            " chNormalization)                                                \n",
            "                                                                 \n",
            " leaky_re_lu_2 (LeakyReLU)   (None, 16, 16, 128)       0         \n",
            "                                                                 \n",
            " conv2d_18 (Conv2D)          (None, 8, 8, 128)         147584    \n",
            "                                                                 \n",
            " batch_normalization_13 (Bat  (None, 8, 8, 128)        512       \n",
            " chNormalization)                                                \n",
            "                                                                 \n",
            " leaky_re_lu_3 (LeakyReLU)   (None, 8, 8, 128)         0         \n",
            "                                                                 \n",
            " conv2d_19 (Conv2D)          (None, 8, 8, 256)         295168    \n",
            "                                                                 \n",
            " batch_normalization_14 (Bat  (None, 8, 8, 256)        1024      \n",
            " chNormalization)                                                \n",
            "                                                                 \n",
            " leaky_re_lu_4 (LeakyReLU)   (None, 8, 8, 256)         0         \n",
            "                                                                 \n",
            " conv2d_20 (Conv2D)          (None, 4, 4, 256)         590080    \n",
            "                                                                 \n",
            " batch_normalization_15 (Bat  (None, 4, 4, 256)        1024      \n",
            " chNormalization)                                                \n",
            "                                                                 \n",
            " leaky_re_lu_5 (LeakyReLU)   (None, 4, 4, 256)         0         \n",
            "                                                                 \n",
            " conv2d_21 (Conv2D)          (None, 4, 4, 512)         1180160   \n",
            "                                                                 \n",
            " batch_normalization_16 (Bat  (None, 4, 4, 512)        2048      \n",
            " chNormalization)                                                \n",
            "                                                                 \n",
            " leaky_re_lu_6 (LeakyReLU)   (None, 4, 4, 512)         0         \n",
            "                                                                 \n",
            " conv2d_22 (Conv2D)          (None, 2, 2, 512)         2359808   \n",
            "                                                                 \n",
            " batch_normalization_17 (Bat  (None, 2, 2, 512)        2048      \n",
            " chNormalization)                                                \n",
            "                                                                 \n",
            " leaky_re_lu_7 (LeakyReLU)   (None, 2, 2, 512)         0         \n",
            "                                                                 \n",
            " dense (Dense)               (None, 2, 2, 1024)        525312    \n",
            "                                                                 \n",
            " leaky_re_lu_8 (LeakyReLU)   (None, 2, 2, 1024)        0         \n",
            "                                                                 \n",
            " dense_1 (Dense)             (None, 2, 2, 1)           1025      \n",
            "                                                                 \n",
            " tf.math.sigmoid (TFOpLambda  (None, 2, 2, 1)          0         \n",
            " )                                                               \n",
            "                                                                 \n",
            "=================================================================\n",
            "Total params: 5,219,137\n",
            "Trainable params: 5,215,425\n",
            "Non-trainable params: 3,712\n",
            "_________________________________________________________________\n"
          ]
        }
      ],
      "source": [
        "discriminator = create_discriminator_network(hr_ip)\n",
        "discriminator.compile(loss=\"binary_crossentropy\",\n",
        "                      optimizer=\"adam\", metrics=['accuracy'])\n",
        "discriminator.summary()\n"
      ]
    },
    {
      "cell_type": "code",
      "execution_count": 18,
      "metadata": {},
      "outputs": [
        {
          "name": "stdout",
          "output_type": "stream",
          "text": [
            "Model: \"model_2\"\n",
            "_________________________________________________________________\n",
            " Layer (type)                Output Shape              Param #   \n",
            "=================================================================\n",
            " input_5 (InputLayer)        [(None, 128, 128, 3)]     0         \n",
            "                                                                 \n",
            " block1_conv1 (Conv2D)       (None, 128, 128, 64)      1792      \n",
            "                                                                 \n",
            " block1_conv2 (Conv2D)       (None, 128, 128, 64)      36928     \n",
            "                                                                 \n",
            " block1_pool (MaxPooling2D)  (None, 64, 64, 64)        0         \n",
            "                                                                 \n",
            " block2_conv1 (Conv2D)       (None, 64, 64, 128)       73856     \n",
            "                                                                 \n",
            " block2_conv2 (Conv2D)       (None, 64, 64, 128)       147584    \n",
            "                                                                 \n",
            " block2_pool (MaxPooling2D)  (None, 32, 32, 128)       0         \n",
            "                                                                 \n",
            " block3_conv1 (Conv2D)       (None, 32, 32, 256)       295168    \n",
            "                                                                 \n",
            " block3_conv2 (Conv2D)       (None, 32, 32, 256)       590080    \n",
            "                                                                 \n",
            " block3_conv3 (Conv2D)       (None, 32, 32, 256)       590080    \n",
            "                                                                 \n",
            " block3_conv4 (Conv2D)       (None, 32, 32, 256)       590080    \n",
            "                                                                 \n",
            "=================================================================\n",
            "Total params: 2,325,568\n",
            "Trainable params: 2,325,568\n",
            "Non-trainable params: 0\n",
            "_________________________________________________________________\n",
            "None\n"
          ]
        }
      ],
      "source": [
        "vgg = vgg_loss_function(hr_shape)\n",
        "print(vgg.summary())\n",
        "vgg.trainable = False\n"
      ]
    },
    {
      "cell_type": "code",
      "execution_count": 42,
      "metadata": {},
      "outputs": [
        {
          "name": "stdout",
          "output_type": "stream",
          "text": [
            "KerasTensor(type_spec=TensorSpec(shape=(None, 128, 128, 3), dtype=tf.float32, name='input_2'), name='input_2', description=\"created by layer 'input_2'\")\n",
            "KerasTensor(type_spec=TensorSpec(shape=(None, 32, 32, 3), dtype=tf.float32, name='input_1'), name='input_1', description=\"created by layer 'input_1'\")\n"
          ]
        }
      ],
      "source": [
        "print(hr_ip)\n",
        "print(lr_ip)"
      ]
    },
    {
      "cell_type": "code",
      "execution_count": 56,
      "metadata": {},
      "outputs": [
        {
          "name": "stdout",
          "output_type": "stream",
          "text": [
            "WARNING:tensorflow:Model was constructed with shape (None, 128, 128, 3) for input KerasTensor(type_spec=TensorSpec(shape=(None, 128, 128, 3), dtype=tf.float32, name='input_5'), name='input_5', description=\"created by layer 'input_5'\"), but it was called on an input with incompatible shape (None, 512, 512, 3).\n"
          ]
        },
        {
          "ename": "ValueError",
          "evalue": "Graph disconnected: cannot obtain value for tensor KerasTensor(type_spec=TensorSpec(shape=(None, 32, 32, 3), dtype=tf.float32, name='input_17'), name='input_17', description=\"created by layer 'input_17'\") at layer \"conv2d_111\". The following previous layers were accessed without issue: []",
          "output_type": "error",
          "traceback": [
            "\u001b[0;31m---------------------------------------------------------------------------\u001b[0m",
            "\u001b[0;31mValueError\u001b[0m                                Traceback (most recent call last)",
            "Cell \u001b[0;32mIn [56], line 1\u001b[0m\n\u001b[0;32m----> 1\u001b[0m gan_model \u001b[39m=\u001b[39m combined_model(generator, discriminator, vgg, hr_ip, lr_ip)\n",
            "Cell \u001b[0;32mIn [55], line 14\u001b[0m, in \u001b[0;36mcombined_model\u001b[0;34m(generator_network, discriminator_network, vgg, hr_img, lr_img)\u001b[0m\n\u001b[1;32m     11\u001b[0m discriminator_network\u001b[39m.\u001b[39mtrainable \u001b[39m=\u001b[39m \u001b[39mFalse\u001b[39;00m\n\u001b[1;32m     12\u001b[0m validity \u001b[39m=\u001b[39m create_discriminator_network()\n\u001b[0;32m---> 14\u001b[0m model \u001b[39m=\u001b[39m Model(inputs\u001b[39m=\u001b[39;49m[lr_img, hr_img], outputs\u001b[39m=\u001b[39;49m[validity, generative_features])\n\u001b[1;32m     15\u001b[0m \u001b[39mreturn\u001b[39;00m model\n",
            "File \u001b[0;32m~/.local/lib/python3.8/site-packages/tensorflow/python/trackable/base.py:205\u001b[0m, in \u001b[0;36mno_automatic_dependency_tracking.<locals>._method_wrapper\u001b[0;34m(self, *args, **kwargs)\u001b[0m\n\u001b[1;32m    203\u001b[0m \u001b[39mself\u001b[39m\u001b[39m.\u001b[39m_self_setattr_tracking \u001b[39m=\u001b[39m \u001b[39mFalse\u001b[39;00m  \u001b[39m# pylint: disable=protected-access\u001b[39;00m\n\u001b[1;32m    204\u001b[0m \u001b[39mtry\u001b[39;00m:\n\u001b[0;32m--> 205\u001b[0m   result \u001b[39m=\u001b[39m method(\u001b[39mself\u001b[39;49m, \u001b[39m*\u001b[39;49margs, \u001b[39m*\u001b[39;49m\u001b[39m*\u001b[39;49mkwargs)\n\u001b[1;32m    206\u001b[0m \u001b[39mfinally\u001b[39;00m:\n\u001b[1;32m    207\u001b[0m   \u001b[39mself\u001b[39m\u001b[39m.\u001b[39m_self_setattr_tracking \u001b[39m=\u001b[39m previous_value  \u001b[39m# pylint: disable=protected-access\u001b[39;00m\n",
            "File \u001b[0;32m~/.local/lib/python3.8/site-packages/keras/engine/functional.py:165\u001b[0m, in \u001b[0;36mFunctional.__init__\u001b[0;34m(self, inputs, outputs, name, trainable, **kwargs)\u001b[0m\n\u001b[1;32m    156\u001b[0m     \u001b[39mif\u001b[39;00m \u001b[39mnot\u001b[39;00m \u001b[39mall\u001b[39m(\n\u001b[1;32m    157\u001b[0m         [\n\u001b[1;32m    158\u001b[0m             functional_utils\u001b[39m.\u001b[39mis_input_keras_tensor(t)\n\u001b[1;32m    159\u001b[0m             \u001b[39mfor\u001b[39;00m t \u001b[39min\u001b[39;00m tf\u001b[39m.\u001b[39mnest\u001b[39m.\u001b[39mflatten(inputs)\n\u001b[1;32m    160\u001b[0m         ]\n\u001b[1;32m    161\u001b[0m     ):\n\u001b[1;32m    162\u001b[0m         inputs, outputs \u001b[39m=\u001b[39m functional_utils\u001b[39m.\u001b[39mclone_graph_nodes(\n\u001b[1;32m    163\u001b[0m             inputs, outputs\n\u001b[1;32m    164\u001b[0m         )\n\u001b[0;32m--> 165\u001b[0m \u001b[39mself\u001b[39;49m\u001b[39m.\u001b[39;49m_init_graph_network(inputs, outputs)\n",
            "File \u001b[0;32m~/.local/lib/python3.8/site-packages/tensorflow/python/trackable/base.py:205\u001b[0m, in \u001b[0;36mno_automatic_dependency_tracking.<locals>._method_wrapper\u001b[0;34m(self, *args, **kwargs)\u001b[0m\n\u001b[1;32m    203\u001b[0m \u001b[39mself\u001b[39m\u001b[39m.\u001b[39m_self_setattr_tracking \u001b[39m=\u001b[39m \u001b[39mFalse\u001b[39;00m  \u001b[39m# pylint: disable=protected-access\u001b[39;00m\n\u001b[1;32m    204\u001b[0m \u001b[39mtry\u001b[39;00m:\n\u001b[0;32m--> 205\u001b[0m   result \u001b[39m=\u001b[39m method(\u001b[39mself\u001b[39;49m, \u001b[39m*\u001b[39;49margs, \u001b[39m*\u001b[39;49m\u001b[39m*\u001b[39;49mkwargs)\n\u001b[1;32m    206\u001b[0m \u001b[39mfinally\u001b[39;00m:\n\u001b[1;32m    207\u001b[0m   \u001b[39mself\u001b[39m\u001b[39m.\u001b[39m_self_setattr_tracking \u001b[39m=\u001b[39m previous_value  \u001b[39m# pylint: disable=protected-access\u001b[39;00m\n",
            "File \u001b[0;32m~/.local/lib/python3.8/site-packages/keras/engine/functional.py:264\u001b[0m, in \u001b[0;36mFunctional._init_graph_network\u001b[0;34m(self, inputs, outputs)\u001b[0m\n\u001b[1;32m    261\u001b[0m     \u001b[39mself\u001b[39m\u001b[39m.\u001b[39m_input_coordinates\u001b[39m.\u001b[39mappend((layer, node_index, tensor_index))\n\u001b[1;32m    263\u001b[0m \u001b[39m# Keep track of the network's nodes and layers.\u001b[39;00m\n\u001b[0;32m--> 264\u001b[0m nodes, nodes_by_depth, layers, _ \u001b[39m=\u001b[39m _map_graph_network(\n\u001b[1;32m    265\u001b[0m     \u001b[39mself\u001b[39;49m\u001b[39m.\u001b[39;49minputs, \u001b[39mself\u001b[39;49m\u001b[39m.\u001b[39;49moutputs\n\u001b[1;32m    266\u001b[0m )\n\u001b[1;32m    267\u001b[0m \u001b[39mself\u001b[39m\u001b[39m.\u001b[39m_network_nodes \u001b[39m=\u001b[39m nodes\n\u001b[1;32m    268\u001b[0m \u001b[39mself\u001b[39m\u001b[39m.\u001b[39m_nodes_by_depth \u001b[39m=\u001b[39m nodes_by_depth\n",
            "File \u001b[0;32m~/.local/lib/python3.8/site-packages/keras/engine/functional.py:1128\u001b[0m, in \u001b[0;36m_map_graph_network\u001b[0;34m(inputs, outputs)\u001b[0m\n\u001b[1;32m   1126\u001b[0m \u001b[39mfor\u001b[39;00m x \u001b[39min\u001b[39;00m tf\u001b[39m.\u001b[39mnest\u001b[39m.\u001b[39mflatten(node\u001b[39m.\u001b[39mkeras_inputs):\n\u001b[1;32m   1127\u001b[0m     \u001b[39mif\u001b[39;00m \u001b[39mid\u001b[39m(x) \u001b[39mnot\u001b[39;00m \u001b[39min\u001b[39;00m computable_tensors:\n\u001b[0;32m-> 1128\u001b[0m         \u001b[39mraise\u001b[39;00m \u001b[39mValueError\u001b[39;00m(\n\u001b[1;32m   1129\u001b[0m             \u001b[39mf\u001b[39m\u001b[39m\"\u001b[39m\u001b[39mGraph disconnected: cannot obtain value for \u001b[39m\u001b[39m\"\u001b[39m\n\u001b[1;32m   1130\u001b[0m             \u001b[39mf\u001b[39m\u001b[39m'\u001b[39m\u001b[39mtensor \u001b[39m\u001b[39m{\u001b[39;00mx\u001b[39m}\u001b[39;00m\u001b[39m at layer \u001b[39m\u001b[39m\"\u001b[39m\u001b[39m{\u001b[39;00mlayer\u001b[39m.\u001b[39mname\u001b[39m}\u001b[39;00m\u001b[39m\"\u001b[39m\u001b[39m. \u001b[39m\u001b[39m'\u001b[39m\n\u001b[1;32m   1131\u001b[0m             \u001b[39m\"\u001b[39m\u001b[39mThe following previous layers were accessed \u001b[39m\u001b[39m\"\u001b[39m\n\u001b[1;32m   1132\u001b[0m             \u001b[39mf\u001b[39m\u001b[39m\"\u001b[39m\u001b[39mwithout issue: \u001b[39m\u001b[39m{\u001b[39;00mlayers_with_complete_input\u001b[39m}\u001b[39;00m\u001b[39m\"\u001b[39m\n\u001b[1;32m   1133\u001b[0m         )\n\u001b[1;32m   1134\u001b[0m \u001b[39mfor\u001b[39;00m x \u001b[39min\u001b[39;00m tf\u001b[39m.\u001b[39mnest\u001b[39m.\u001b[39mflatten(node\u001b[39m.\u001b[39moutputs):\n\u001b[1;32m   1135\u001b[0m     computable_tensors\u001b[39m.\u001b[39madd(\u001b[39mid\u001b[39m(x))\n",
            "\u001b[0;31mValueError\u001b[0m: Graph disconnected: cannot obtain value for tensor KerasTensor(type_spec=TensorSpec(shape=(None, 32, 32, 3), dtype=tf.float32, name='input_17'), name='input_17', description=\"created by layer 'input_17'\") at layer \"conv2d_111\". The following previous layers were accessed without issue: []"
          ]
        }
      ],
      "source": [
        "gan_model = combined_model(generator, discriminator, vgg, hr_ip, lr_ip)\n"
      ]
    },
    {
      "cell_type": "code",
      "execution_count": 35,
      "metadata": {},
      "outputs": [
        {
          "name": "stdout",
          "output_type": "stream",
          "text": [
            "Model: \"model_3\"\n",
            "__________________________________________________________________________________________________\n",
            " Layer (type)                   Output Shape         Param #     Connected to                     \n",
            "==================================================================================================\n",
            " input_1 (InputLayer)           [(None, 32, 32, 3)]  0           []                               \n",
            "                                                                                                  \n",
            " model (Functional)             (None, 512, 512, 3)  72921027    ['input_1[0][0]']                \n",
            "                                                                                                  \n",
            " input_2 (InputLayer)           [(None, 128, 128, 3  0           []                               \n",
            "                                )]                                                                \n",
            "                                                                                                  \n",
            " model_1 (Functional)           (None, 2, 2, 1)      5219137     ['model[0][0]']                  \n",
            "                                                                                                  \n",
            " model_2 (Functional)           (None, 32, 32, 256)  2325568     ['model[0][0]']                  \n",
            "                                                                                                  \n",
            "==================================================================================================\n",
            "Total params: 80,465,732\n",
            "Trainable params: 72,919,619\n",
            "Non-trainable params: 7,546,113\n",
            "__________________________________________________________________________________________________\n"
          ]
        }
      ],
      "source": [
        "gan_model.compile(loss=[\"binary_crossentropy\", \"mse\"],\n",
        "                  loss_weights=[1e-3, 1], optimizer=\"adam\")\n",
        "gan_model.summary()\n"
      ]
    },
    {
      "cell_type": "code",
      "execution_count": 36,
      "metadata": {},
      "outputs": [],
      "source": [
        "batch_size = 20\n",
        "train_lr_batches = []\n",
        "train_hr_batches = []\n",
        "for i in range(int(hr_train.shape[0] / batch_size)):\n",
        "    start_idx = i * batch_size\n",
        "    end_idx = start_idx + batch_size\n",
        "    train_hr_batches.append(hr_train[start_idx:end_idx])\n",
        "    train_lr_batches.append(lr_train[start_idx:end_idx])\n"
      ]
    },
    {
      "cell_type": "code",
      "execution_count": null,
      "metadata": {},
      "outputs": [],
      "source": [
        "epochs = 5\n",
        "#Enumerate training over epochs\n",
        "for e in range(epochs):\n",
        "    \n",
        "    fake_label = np.zeros((batch_size, 1)) # Assign a label of 0 to all fake (generated images)\n",
        "    real_label = np.ones((batch_size,1)) # Assign a label of 1 to all real images.\n",
        "    \n",
        "    #Create empty lists to populate gen and disc losses. \n",
        "    generator_losses = []\n",
        "    discrimator_losses = []\n",
        "    \n",
        "    #Enumerate training over batches. \n",
        "    for b in tqdm(range(len(train_hr_batches))):\n",
        "        lr_imgs = train_lr_batches[b] #Fetch a batch of LR images for training\n",
        "        hr_imgs = train_hr_batches[b] #Fetch a batch of HR images for training\n",
        "        \n",
        "        fake_imgs = generator.predict_on_batch(lr_imgs) #Fake images\n",
        "        \n",
        "        #First, train the discriminator on fake and real HR images. \n",
        "        discriminator.trainable = True\n",
        "        d_loss_gen = discriminator.train_on_batch(fake_imgs, fake_label)\n",
        "        d_loss_real = discriminator.train_on_batch(hr_imgs, real_label)\n",
        "        \n",
        "        #Now, train the generator by fixing discriminator as non-trainable\n",
        "        discriminator.trainable = False\n",
        "        \n",
        "        #Average the discriminator loss, just for reporting purposes. \n",
        "        d_loss = 0.5 * np.add(d_loss_gen, d_loss_real) \n",
        "        \n",
        "        #Extract VGG features, to be used towards calculating loss\n",
        "        image_features = vgg.predict(hr_imgs)\n",
        "     \n",
        "        #Train the generator via GAN. \n",
        "        #Remember that we have 2 losses, adversarial loss and content (VGG) loss\n",
        "        g_loss, _, _ = gan_model.train_on_batch([lr_imgs, hr_imgs], [real_label, image_features])\n",
        "        \n",
        "        #Save losses to a list so we can average and report. \n",
        "        d_losses.append(d_loss)\n",
        "        g_losses.append(g_loss)\n",
        "        \n",
        "    #Convert the list of losses to an array to make it easy to average    \n",
        "    g_losses = np.array(g_losses)\n",
        "    d_losses = np.array(d_losses)\n",
        "    \n",
        "    #Calculate the average losses for generator and discriminator\n",
        "    g_loss = np.sum(g_losses, axis=0) / len(g_losses)\n",
        "    d_loss = np.sum(d_losses, axis=0) / len(d_losses)\n",
        "    \n",
        "    #Report the progress during training. \n",
        "    print(\"epoch:\", e+1 ,\"g_loss:\", g_loss, \"d_loss:\", d_loss)\n",
        "\n",
        "    if (e+1) % 10 == 0: #Change the frequency for model saving, if needed\n",
        "        #Save the generator after every n epochs (Usually 10 epochs)\n",
        "        generator.save(\"gen_e_\"+ str(e+1) +\".h5\")"
      ]
    },
    {
      "cell_type": "code",
      "execution_count": null,
      "metadata": {},
      "outputs": [],
      "source": []
    }
  ],
  "metadata": {
    "colab": {
      "collapsed_sections": [],
      "provenance": []
    },
    "kernelspec": {
      "display_name": "Python 3.8.10 64-bit",
      "language": "python",
      "name": "python3"
    },
    "language_info": {
      "codemirror_mode": {
        "name": "ipython",
        "version": 3
      },
      "file_extension": ".py",
      "mimetype": "text/x-python",
      "name": "python",
      "nbconvert_exporter": "python",
      "pygments_lexer": "ipython3",
      "version": "3.8.10"
    },
    "orig_nbformat": 4,
    "vscode": {
      "interpreter": {
        "hash": "916dbcbb3f70747c44a77c7bcd40155683ae19c65e1c03b4aa3499c5328201f1"
      }
    }
  },
  "nbformat": 4,
  "nbformat_minor": 0
}
